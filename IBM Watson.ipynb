{
  "cells": [
    {
      "cell_type": "code",
      "execution_count": null,
      "metadata": {
        "colab": {
          "base_uri": "https://localhost:8080/"
        },
        "id": "-yoYNdvfjgc_",
        "outputId": "f182919f-55f9-4eb0-827f-6ca8249ec52f"
      },
      "outputs": [
        {
          "name": "stdout",
          "output_type": "stream",
          "text": [
            "Drive already mounted at /content/gdrive; to attempt to forcibly remount, call drive.mount(\"/content/gdrive\", force_remount=True).\n"
          ]
        }
      ],
      "source": [
        "import pandas as pd\n",
        "import numpy as np\n",
        "import os\n",
        "from collections import Counter\n",
        "import json\n",
        "\n",
        "#! pip install ibm_watson\n",
        "from ibm_watson import NaturalLanguageUnderstandingV1\n",
        "from ibm_cloud_sdk_core.authenticators import IAMAuthenticator\n",
        "from ibm_watson.natural_language_understanding_v1 \\\n",
        "    import Features, EmotionOptions\n",
        "\n",
        "from google.colab import drive\n",
        "drive.mount('/content/gdrive')\n",
        "os.chdir(\"/content/gdrive/My Drive/Colab Notebooks/PSVII\")\n",
        "\n",
        "# Load data for testing (assuming CSV file format for example)\n",
        "df = pd.read_csv('IBM_GoEmotions.csv')"
      ]
    },
    {
      "cell_type": "code",
      "execution_count": null,
      "metadata": {
        "id": "KG238rBkp6wh"
      },
      "outputs": [],
      "source": [
        "# Authenticate to IBM Watson\n",
        "authenticator = IAMAuthenticator('')\n",
        "natural_language_understanding = NaturalLanguageUnderstandingV1(\n",
        "    version='2022-04-07',\n",
        "    authenticator=authenticator\n",
        ")\n",
        "natural_language_understanding.set_service_url('')\n",
        "\n",
        "def analyze_emotion(text):\n",
        "    try:\n",
        "        response = natural_language_understanding.analyze(\n",
        "            text=text,\n",
        "            features=Features(emotion=EmotionOptions(document=True))\n",
        "        ).get_result()\n",
        "        # Extracting emotion scores from the response\n",
        "        emotions = response['emotion']['document']['emotion']\n",
        "        # Return a Series for easy DataFrame concatenation\n",
        "        return pd.Series(emotions)\n",
        "    except Exception as e:\n",
        "        print(f\"Error processing text: {e}\")\n",
        "        # Return NaNs in case of an error\n",
        "        return pd.Series([np.nan, np.nan, np.nan, np.nan, np.nan], index=['sadness', 'joy', 'fear', 'disgust', 'anger'])\n",
        "\n",
        "# Apply the function and join the results as new columns\n",
        "emotion_df = df['clean_text'].apply(analyze_emotion)\n",
        "emotion_df.columns = ['predicted_sadness', 'predicted_joy', 'predicted_fear', 'predicted_disgust', 'predicted_anger']\n",
        "\n",
        "# Concatenate the original DataFrame with the new emotion columns\n",
        "df = pd.concat([df, emotion_df], axis=1)\n",
        "\n",
        "# Saving the DataFrame to an Excel file\n",
        "# df.to_excel('IBM-LITE_Output.xlsx', index=False)\n",
        "# print(\"The file has been successfully saved\")"
      ]
    }
  ],
  "metadata": {
    "colab": {
      "provenance": []
    },
    "kernelspec": {
      "display_name": "Python 3",
      "name": "python3"
    },
    "language_info": {
      "name": "python"
    }
  },
  "nbformat": 4,
  "nbformat_minor": 0
}
